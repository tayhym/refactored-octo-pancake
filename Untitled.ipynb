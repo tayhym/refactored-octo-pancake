{
 "cells": [
  {
   "cell_type": "code",
   "execution_count": 1,
   "metadata": {},
   "outputs": [],
   "source": [
    "# coding out a simple linear model using tensorflow"
   ]
  },
  {
   "cell_type": "code",
   "execution_count": 14,
   "metadata": {},
   "outputs": [],
   "source": [
    "import tensorflow as tf\n",
    "import numpy as np\n",
    "from mnist import MNIST\n"
   ]
  },
  {
   "cell_type": "code",
   "execution_count": 15,
   "metadata": {},
   "outputs": [],
   "source": [
    "# get data \n",
    "data = MNIST('./data/mnist')\n",
    "\n"
   ]
  },
  {
   "cell_type": "code",
   "execution_count": 98,
   "metadata": {},
   "outputs": [],
   "source": [
    "#@@ \n",
    "data.num_train\n",
    "data.num_test\n",
    "data.num_val\n",
    "\n",
    "img_size = data.img_size_flat\n",
    "img_shape = data.img_shape\n",
    "num_classes = data.num_classes"
   ]
  },
  {
   "cell_type": "code",
   "execution_count": 114,
   "metadata": {},
   "outputs": [],
   "source": [
    "# setup graph\n",
    "x = tf.placeholder(tf.float32, [None, img_size])\n",
    "\n",
    "W = tf.Variable(tf.zeros([img_size, num_classes]), name=\"weights1\")\n",
    "biases = tf.Variable(tf.zeros([num_classes]), name=\"bias1\")\n",
    "logits = tf.matmul(x, W) + biases\n",
    "ypred = tf.nn.softmax(logits)\n",
    "\n",
    "ypred_cls = tf.cast(tf.argmax(ypred, axis=1), tf.float32)\n",
    "ytrue = tf.placeholder(tf.float32, [None, num_classes])\n",
    "ytrue_cls = tf.placeholder(tf.float32, [None])\n",
    "\n",
    "cost = tf.nn.softmax_cross_entropy_with_logits(logits=logits, labels=ytrue)\n",
    "\n",
    "optimizer = tf.train.GradientDescentOptimizer(learning_rate=0.5).minimize(cost)\n",
    "\n",
    "initializer = tf.global_variables_initializer()\n",
    "\n",
    "# evaluation\n",
    "correct_pred = tf.equal(ypred_cls, ytrue_cls)\n",
    "accuracy = tf.reduce_mean(tf.cast(correct_pred, tf.float32))\n",
    "\n"
   ]
  },
  {
   "cell_type": "code",
   "execution_count": 115,
   "metadata": {},
   "outputs": [],
   "source": [
    "batch_size = 100\n",
    "# setup session\n",
    "sess = tf.Session()\n",
    "\n",
    "# iteration call\n",
    "def optimize(num_iterations=10):\n",
    "    for i in range(num_iterations):\n",
    "        x_train, y_train, _ = data.random_batch(batch_size=batch_size)\n",
    "        y_train_cls = np.argmax(y_train, axis=1)\n",
    "\n",
    "        feed_dict_train = {x: x_train,\n",
    "                           ytrue: y_train,\n",
    "                           ytrue_cls: y_train_cls}\n",
    "\n",
    "        sess.run(optimizer, feed_dict = feed_dict_train)\n",
    "    \n",
    "    "
   ]
  },
  {
   "cell_type": "code",
   "execution_count": 116,
   "metadata": {},
   "outputs": [],
   "source": [
    "def measure_performance():\n",
    "    x_test, y_test = data.x_test, data.y_test\n",
    "    y_test_cls = np.argmax(y_test, axis=1)\n",
    "    feed_dict_test = {x: x_test, \n",
    "                      ytrue: y_test,\n",
    "                      ytrue_cls: y_test_cls}\n",
    "    acc = sess.run([accuracy], feed_dict=feed_dict_test)\n",
    "    print(acc)"
   ]
  },
  {
   "cell_type": "code",
   "execution_count": 117,
   "metadata": {},
   "outputs": [
    {
     "name": "stdout",
     "output_type": "stream",
     "text": [
      "[0.098]\n"
     ]
    }
   ],
   "source": [
    "# run session\n",
    "sess.run(initializer)\n",
    "measure_performance()"
   ]
  },
  {
   "cell_type": "code",
   "execution_count": 118,
   "metadata": {},
   "outputs": [
    {
     "name": "stdout",
     "output_type": "stream",
     "text": [
      "[0.8812]\n"
     ]
    }
   ],
   "source": [
    "optimize(100)\n",
    "measure_performance()\n"
   ]
  },
  {
   "cell_type": "code",
   "execution_count": null,
   "metadata": {},
   "outputs": [],
   "source": []
  },
  {
   "cell_type": "code",
   "execution_count": null,
   "metadata": {},
   "outputs": [],
   "source": []
  }
 ],
 "metadata": {
  "kernelspec": {
   "display_name": "Python 3",
   "language": "python",
   "name": "python3"
  },
  "language_info": {
   "codemirror_mode": {
    "name": "ipython",
    "version": 3
   },
   "file_extension": ".py",
   "mimetype": "text/x-python",
   "name": "python",
   "nbconvert_exporter": "python",
   "pygments_lexer": "ipython3",
   "version": "3.6.5"
  }
 },
 "nbformat": 4,
 "nbformat_minor": 2
}

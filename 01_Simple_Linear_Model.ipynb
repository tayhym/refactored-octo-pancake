{
 "cells": [
  {
   "cell_type": "markdown",
   "metadata": {},
   "source": [
    "# TensorFlow Tutorial #01\n",
    "# Simple Linear Model\n",
    "\n",
    "by [Magnus Erik Hvass Pedersen](http://www.hvass-labs.org/)\n",
    "/ [GitHub](https://github.com/Hvass-Labs/TensorFlow-Tutorials) / [Videos on YouTube](https://www.youtube.com/playlist?list=PL9Hr9sNUjfsmEu1ZniY0XpHSzl5uihcXZ)"
   ]
  },
  {
   "cell_type": "markdown",
   "metadata": {},
   "source": [
    "## Introduction\n",
    "\n",
    "This tutorial demonstrates the basic workflow of using TensorFlow with a simple linear model. After loading the so-called MNIST data-set with images of hand-written digits, we define and optimize a simple mathematical model in TensorFlow. The results are then plotted and discussed.\n",
    "\n",
    "You should be familiar with basic linear algebra, Python and the Jupyter Notebook editor. It also helps if you have a basic understanding of Machine Learning and classification."
   ]
  },
  {
   "cell_type": "markdown",
   "metadata": {},
   "source": [
    "## Imports"
   ]
  },
  {
   "cell_type": "code",
   "execution_count": 2,
   "metadata": {},
   "outputs": [],
   "source": [
    "%matplotlib inline\n",
    "import matplotlib.pyplot as plt\n",
    "import tensorflow as tf\n",
    "import numpy as np\n",
    "from sklearn.metrics import confusion_matrix"
   ]
  },
  {
   "cell_type": "markdown",
   "metadata": {},
   "source": [
    "This was developed using Python 3.6 (Anaconda) and TensorFlow version:"
   ]
  },
  {
   "cell_type": "code",
   "execution_count": 3,
   "metadata": {},
   "outputs": [
    {
     "data": {
      "text/plain": [
       "'1.8.0'"
      ]
     },
     "execution_count": 3,
     "metadata": {},
     "output_type": "execute_result"
    }
   ],
   "source": [
    "tf.__version__"
   ]
  },
  {
   "cell_type": "markdown",
   "metadata": {},
   "source": [
    "## Load Data"
   ]
  },
  {
   "cell_type": "markdown",
   "metadata": {},
   "source": [
    "The MNIST data-set is about 12 MB and will be downloaded automatically if it is not located in the given path."
   ]
  },
  {
   "cell_type": "code",
   "execution_count": null,
   "metadata": {},
   "outputs": [],
   "source": []
  },
  {
   "cell_type": "raw",
   "metadata": {},
   "source": [
    "from mnist import MNIST\n",
    "data = MNIST(data_dir=\"data/MNIST/\")"
   ]
  },
  {
   "cell_type": "markdown",
   "metadata": {},
   "source": [
    "The MNIST data-set has now been loaded and consists of 70.000 images and class-numbers for the images. The data-set is split into 3 mutually exclusive sub-sets. We will only use the training and test-sets in this tutorial."
   ]
  },
  {
   "cell_type": "code",
   "execution_count": 5,
   "metadata": {},
   "outputs": [
    {
     "name": "stdout",
     "output_type": "stream",
     "text": [
      "Size of:\n",
      "- Training-set:\t\t55000\n",
      "- Validation-set:\t5000\n",
      "- Test-set:\t\t10000\n"
     ]
    }
   ],
   "source": [
    "print(\"Size of:\")\n",
    "print(\"- Training-set:\\t\\t{}\".format(data.num_train))\n",
    "print(\"- Validation-set:\\t{}\".format(data.num_val))\n",
    "print(\"- Test-set:\\t\\t{}\".format(data.num_test))"
   ]
  },
  {
   "cell_type": "markdown",
   "metadata": {},
   "source": [
    "Copy some of the data-dimensions for convenience."
   ]
  },
  {
   "cell_type": "code",
   "execution_count": 6,
   "metadata": {},
   "outputs": [],
   "source": [
    "# The images are stored in one-dimensional arrays of this length.\n",
    "img_size_flat = data.img_size_flat\n",
    "\n",
    "# Tuple with height and width of images used to reshape arrays.\n",
    "img_shape = data.img_shape\n",
    "\n",
    "# Number of classes, one class for each of 10 digits.\n",
    "num_classes = data.num_classes"
   ]
  },
  {
   "cell_type": "markdown",
   "metadata": {},
   "source": [
    "### One-Hot Encoding"
   ]
  },
  {
   "cell_type": "markdown",
   "metadata": {},
   "source": [
    "The output-data is loaded as both integer class-numbers and so-called One-Hot encoded arrays. This means the class-numbers have been converted from a single integer to a vector whose length equals the number of possible classes. All elements of the vector are zero except for the $i$'th element which is 1 and means the class is $i$. For example, the One-Hot encoded labels for the first 5 images in the test-set are:"
   ]
  },
  {
   "cell_type": "code",
   "execution_count": 7,
   "metadata": {},
   "outputs": [
    {
     "data": {
      "text/plain": [
       "array([[0., 0., 0., 0., 0., 0., 0., 1., 0., 0.],\n",
       "       [0., 0., 1., 0., 0., 0., 0., 0., 0., 0.],\n",
       "       [0., 1., 0., 0., 0., 0., 0., 0., 0., 0.],\n",
       "       [1., 0., 0., 0., 0., 0., 0., 0., 0., 0.],\n",
       "       [0., 0., 0., 0., 1., 0., 0., 0., 0., 0.]])"
      ]
     },
     "execution_count": 7,
     "metadata": {},
     "output_type": "execute_result"
    }
   ],
   "source": [
    "data.y_test[0:5, :]"
   ]
  },
  {
   "cell_type": "markdown",
   "metadata": {},
   "source": [
    "We also need the classes as integers for various comparisons and performance measures. These can be found from the One-Hot encoded arrays by taking the index of the highest element using the `np.argmax()` function. But this has already been done for us when the data-set was loaded, so we can see the class-number for the first five images in the test-set. Compare these to the One-Hot encoded arrays above."
   ]
  },
  {
   "cell_type": "code",
   "execution_count": 8,
   "metadata": {},
   "outputs": [
    {
     "data": {
      "text/plain": [
       "array([7, 2, 1, 0, 4])"
      ]
     },
     "execution_count": 8,
     "metadata": {},
     "output_type": "execute_result"
    }
   ],
   "source": [
    "data.y_test_cls[0:5]"
   ]
  },
  {
   "cell_type": "markdown",
   "metadata": {},
   "source": [
    "### Helper-function for plotting images"
   ]
  },
  {
   "cell_type": "markdown",
   "metadata": {},
   "source": [
    "Function used to plot 9 images in a 3x3 grid, and writing the true and predicted classes below each image."
   ]
  },
  {
   "cell_type": "code",
   "execution_count": 11,
   "metadata": {},
   "outputs": [],
   "source": [
    "def plot_images(images, cls_true, cls_pred=None):\n",
    "    assert len(images) == len(cls_true) == 9\n",
    "    \n",
    "    # Create figure with 3x3 sub-plots.\n",
    "    fig, axes = plt.subplots(3, 3)\n",
    "    fig.subplots_adjust(hspace=0.3, wspace=0.3)\n",
    "\n",
    "    for i, ax in enumerate(axes.flat):\n",
    "        # Plot image.\n",
    "        ax.imshow(images[i].reshape(img_shape), cmap='binary')\n",
    "\n",
    "        # Show true and predicted classes.\n",
    "        if cls_pred is None:\n",
    "            xlabel = \"True: {0}\".format(cls_true[i])\n",
    "        else:\n",
    "            xlabel = \"True: {0}, Pred: {1}\".format(cls_true[i], cls_pred[i])\n",
    "\n",
    "        ax.set_xlabel(xlabel)\n",
    "        \n",
    "        # Remove ticks from the plot.\n",
    "        ax.set_xticks([])\n",
    "        ax.set_yticks([])\n",
    "        \n",
    "    # Ensure the plot is shown correctly with multiple plots\n",
    "    # in a single Notebook cell.\n",
    "    plt.show()"
   ]
  },
  {
   "cell_type": "markdown",
   "metadata": {},
   "source": [
    "### Plot a few images to see if data is correct"
   ]
  },
  {
   "cell_type": "code",
   "execution_count": 12,
   "metadata": {},
   "outputs": [
    {
     "data": {
      "image/png": "[encoded data removed]",
      "text/plain": [
       "<Figure size 432x288 with 9 Axes>"
      ]
     },
     "metadata": {},
     "output_type": "display_data"
    }
   ],
   "source": [
    "# Get the first images from the test-set.\n",
    "images = data.x_test[0:9]\n",
    "\n",
    "# Get the true classes for those images.\n",
    "cls_true = data.y_test_cls[0:9]\n",
    "\n",
    "# Plot the images and labels using our helper-function above.\n",
    "plot_images(images=images, cls_true=cls_true)"
   ]
  },
  {
   "cell_type": "markdown",
   "metadata": {},
   "source": [
    "## TensorFlow Graph\n",
    "\n",
    "The entire purpose of TensorFlow is to have a so-called computational graph that can be executed much more efficiently than if the same calculations were to be performed directly in Python. TensorFlow can be more efficient than NumPy because TensorFlow knows the entire computation graph that must be executed, while NumPy only knows the computation of a single mathematical operation at a time.\n",
    "\n",
    "TensorFlow can also automatically calculate the gradients that are needed to optimize the variables of the graph so as to make the model perform better. This is because the graph is a combination of simple mathematical expressions so the gradient of the entire graph can be calculated using the chain-rule for derivatives.\n",
    "\n",
    "TensorFlow can also take advantage of multi-core CPUs as well as GPUs - and Google has even built special chips just for TensorFlow which are called TPUs (Tensor Processing Units) that are even faster than GPUs.\n",
    "\n",
    "A TensorFlow graph consists of the following parts which will be detailed below:\n",
    "\n",
    "* Placeholder variables used to feed input into the graph.\n",
    "* Model variables that are going to be optimized so as to make the model perform better.\n",
    "* The model which is essentially just a mathematical function that calculates some output given the input in the placeholder variables and the model variables.\n",
    "* A cost measure that can be used to guide the optimization of the variables.\n",
    "* An optimization method which updates the variables of the model.\n",
    "\n",
    "In addition, the TensorFlow graph may also contain various debugging statements e.g. for logging data to be displayed using TensorBoard, which is not covered in this tutorial."
   ]
  },
  {
   "cell_type": "markdown",
   "metadata": {},
   "source": [
    "### Placeholder variables"
   ]
  },
  {
   "cell_type": "markdown",
   "metadata": {},
   "source": [
    "Placeholder variables serve as the input to the graph that we may change each time we execute the graph. We call this feeding the placeholder variables and it is demonstrated further below.\n",
    "\n",
    "First we define the placeholder variable for the input images. This allows us to change the images that are input to the TensorFlow graph. This is a so-called tensor, which just means that it is a multi-dimensional vector or matrix. The data-type is set to `float32` and the shape is set to `[None, img_size_flat]`, where `None` means that the tensor may hold an arbitrary number of images with each image being a vector of length `img_size_flat`."
   ]
  },
  {
   "cell_type": "code",
   "execution_count": 209,
   "metadata": {},
   "outputs": [],
   "source": [
    "x = tf.placeholder(tf.float32, [None, img_size_flat])"
   ]
  },
  {
   "cell_type": "markdown",
   "metadata": {},
   "source": [
    "Next we have the placeholder variable for the true labels associated with the images that were input in the placeholder variable `x`. The shape of this placeholder variable is `[None, num_classes]` which means it may hold an arbitrary number of labels and each label is a vector of length `num_classes` which is 10 in this case."
   ]
  },
  {
   "cell_type": "code",
   "execution_count": 210,
   "metadata": {},
   "outputs": [],
   "source": [
    "y_true = tf.placeholder(tf.float32, [None, num_classes])"
   ]
  },
  {
   "cell_type": "markdown",
   "metadata": {},
   "source": [
    "Finally we have the placeholder variable for the true class of each image in the placeholder variable `x`. These are integers and the dimensionality of this placeholder variable is set to `[None]` which means the placeholder variable is a one-dimensional vector of arbitrary length."
   ]
  },
  {
   "cell_type": "code",
   "execution_count": 211,
   "metadata": {},
   "outputs": [],
   "source": [
    "y_true_cls = tf.placeholder(tf.int64, [None])"
   ]
  },
  {
   "cell_type": "markdown",
   "metadata": {},
   "source": [
    "### Variables to be optimized"
   ]
  },
  {
   "cell_type": "markdown",
   "metadata": {},
   "source": [
    "Apart from the placeholder variables that were defined above and which serve as feeding input data into the model, there are also some model variables that must be changed by TensorFlow so as to make the model perform better on the training data.\n",
    "\n",
    "The first variable that must be optimized is called `weights` and is defined here as a TensorFlow variable that must be initialized with zeros and whose shape is `[img_size_flat, num_classes]`, so it is a 2-dimensional tensor (or matrix) with `img_size_flat` rows and `num_classes` columns."
   ]
  },
  {
   "cell_type": "code",
   "execution_count": 212,
   "metadata": {},
   "outputs": [],
   "source": [
    "weights = tf.Variable(tf.zeros([img_size_flat, num_classes]))"
   ]
  },
  {
   "cell_type": "markdown",
   "metadata": {},
   "source": [
    "The second variable that must be optimized is called `biases` and is defined as a 1-dimensional tensor (or vector) of length `num_classes`."
   ]
  },
  {
   "cell_type": "code",
   "execution_count": 213,
   "metadata": {},
   "outputs": [],
   "source": [
    "biases = tf.Variable(tf.zeros([num_classes]))"
   ]
  },
  {
   "cell_type": "markdown",
   "metadata": {},
   "source": [
    "### Model"
   ]
  },
  {
   "cell_type": "markdown",
   "metadata": {},
   "source": [
    "This simple mathematical model multiplies the images in the placeholder variable `x` with the `weights` and then adds the `biases`.\n",
    "\n",
    "The result is a matrix of shape `[num_images, num_classes]` because `x` has shape `[num_images, img_size_flat]` and `weights` has shape `[img_size_flat, num_classes]`, so the multiplication of those two matrices is a matrix with shape `[num_images, num_classes]` and then the `biases` vector is added to each row of that matrix.\n",
    "\n",
    "Note that the name `logits` is typical TensorFlow terminology, but other people may call the variable something else."
   ]
  },
  {
   "cell_type": "code",
   "execution_count": 214,
   "metadata": {},
   "outputs": [],
   "source": [
    "logits = tf.matmul(x, weights) + biases"
   ]
  },
  {
   "cell_type": "markdown",
   "metadata": {},
   "source": [
    "Now `logits` is a matrix with `num_images` rows and `num_classes` columns, where the element of the $i$'th row and $j$'th column is an estimate of how likely the $i$'th input image is to be of the $j$'th class.\n",
    "\n",
    "However, these estimates are a bit rough and difficult to interpret because the numbers may be very small or large, so we want to normalize them so that each row of the `logits` matrix sums to one, and each element is limited between zero and one. This is calculated using the so-called softmax function and the result is stored in `y_pred`."
   ]
  },
  {
   "cell_type": "code",
   "execution_count": 215,
   "metadata": {},
   "outputs": [],
   "source": [
    "y_pred = tf.nn.softmax(logits)"
   ]
  },
  {
   "cell_type": "markdown",
   "metadata": {},
   "source": [
    "The predicted class can be calculated from the `y_pred` matrix by taking the index of the largest element in each row."
   ]
  },
  {
   "cell_type": "code",
   "execution_count": 216,
   "metadata": {},
   "outputs": [],
   "source": [
    "y_pred_cls = tf.argmax(y_pred, axis=1)"
   ]
  },
  {
   "cell_type": "markdown",
   "metadata": {},
   "source": [
    "### Cost-function to be optimized"
   ]
  },
  {
   "cell_type": "markdown",
   "metadata": {},
   "source": [
    "To make the model better at classifying the input images, we must somehow change the variables for `weights` and `biases`. To do this we first need to know how well the model currently performs by comparing the predicted output of the model `y_pred` to the desired output `y_true`.\n",
    "\n",
    "The cross-entropy is a performance measure used in classification. The cross-entropy is a continuous function that is always positive and if the predicted output of the model exactly matches the desired output then the cross-entropy equals zero. The goal of optimization is therefore to minimize the cross-entropy so it gets as close to zero as possible by changing the `weights` and `biases` of the model.\n",
    "\n",
    "TensorFlow has a built-in function for calculating the cross-entropy. Note that it uses the values of the `logits` because it also calculates the softmax internally."
   ]
  },
  {
   "cell_type": "code",
   "execution_count": 345,
   "metadata": {},
   "outputs": [],
   "source": [
    "cross_entropy = tf.nn.sparse_softmax_cross_entropy_with_logits(logits=logits,\n",
    "                                                           labels=y_true_cls)"
   ]
  },
  {
   "cell_type": "markdown",
   "metadata": {},
   "source": [
    "We have now calculated the cross-entropy for each of the image classifications so we have a measure of how well the model performs on each image individually. But in order to use the cross-entropy to guide the optimization of the model's variables we need a single scalar value, so we simply take the average of the cross-entropy for all the image classifications."
   ]
  },
  {
   "cell_type": "code",
   "execution_count": 362,
   "metadata": {},
   "outputs": [],
   "source": [
    "cost = cross_entropy #tf.reduce_mean(cross_entropy)"
   ]
  },
  {
   "cell_type": "markdown",
   "metadata": {},
   "source": [
    "### Optimization method"
   ]
  },
  {
   "cell_type": "markdown",
   "metadata": {},
   "source": [
    "Now that we have a cost measure that must be minimized, we can then create an optimizer. In this case it is the basic form of Gradient Descent where the step-size is set to 0.5.\n",
    "\n",
    "Note that optimization is not performed at this point. In fact, nothing is calculated at all, we just add the optimizer-object to the TensorFlow graph for later execution."
   ]
  },
  {
   "cell_type": "code",
   "execution_count": 363,
   "metadata": {},
   "outputs": [],
   "source": [
    "optimizer = tf.train.GradientDescentOptimizer(learning_rate=0.5).minimize(cost)"
   ]
  },
  {
   "cell_type": "markdown",
   "metadata": {},
   "source": [
    "### Performance measures"
   ]
  },
  {
   "cell_type": "markdown",
   "metadata": {},
   "source": [
    "We need a few more performance measures to display the progress to the user.\n",
    "\n",
    "This is a vector of booleans whether the predicted class equals the true class of each image."
   ]
  },
  {
   "cell_type": "code",
   "execution_count": 364,
   "metadata": {},
   "outputs": [],
   "source": [
    "correct_prediction = tf.equal(y_pred_cls, y_true_cls)"
   ]
  },
  {
   "cell_type": "markdown",
   "metadata": {},
   "source": [
    "This calculates the classification accuracy by first type-casting the vector of booleans to floats, so that False becomes 0 and True becomes 1, and then calculating the average of these numbers."
   ]
  },
  {
   "cell_type": "code",
   "execution_count": 365,
   "metadata": {},
   "outputs": [],
   "source": [
    "accuracy = tf.reduce_mean(tf.cast(correct_prediction, tf.float32))"
   ]
  },
  {
   "cell_type": "markdown",
   "metadata": {},
   "source": [
    "## TensorFlow Run"
   ]
  },
  {
   "cell_type": "markdown",
   "metadata": {},
   "source": [
    "### Create TensorFlow session\n",
    "\n",
    "Once the TensorFlow graph has been created, we have to create a TensorFlow session which is used to execute the graph."
   ]
  },
  {
   "cell_type": "code",
   "execution_count": 366,
   "metadata": {},
   "outputs": [],
   "source": [
    "session = tf.Session()"
   ]
  },
  {
   "cell_type": "markdown",
   "metadata": {},
   "source": [
    "### Initialize variables\n",
    "\n",
    "The variables for `weights` and `biases` must be initialized before we start optimizing them."
   ]
  },
  {
   "cell_type": "code",
   "execution_count": 367,
   "metadata": {},
   "outputs": [],
   "source": [
    "session.run(tf.global_variables_initializer())"
   ]
  },
  {
   "cell_type": "markdown",
   "metadata": {},
   "source": [
    "### Helper-function to perform optimization iterations"
   ]
  },
  {
   "cell_type": "markdown",
   "metadata": {},
   "source": [
    "There are 55.000 images in the training-set. It takes a long time to calculate the gradient of the model using all these images. We therefore use Stochastic Gradient Descent which only uses a small batch of images in each iteration of the optimizer."
   ]
  },
  {
   "cell_type": "code",
   "execution_count": 368,
   "metadata": {},
   "outputs": [],
   "source": [
    "batch_size = 100"
   ]
  },
  {
   "cell_type": "markdown",
   "metadata": {},
   "source": [
    "Function for performing a number of optimization iterations so as to gradually improve the `weights` and `biases` of the model. In each iteration, a new batch of data is selected from the training-set and then TensorFlow executes the optimizer using those training samples."
   ]
  },
  {
   "cell_type": "code",
   "execution_count": 396,
   "metadata": {},
   "outputs": [],
   "source": [
    "def optimize(num_iterations):\n",
    "    for i in range(num_iterations):\n",
    "        # Get a batch of training examples.\n",
    "        # x_batch now holds a batch of images and\n",
    "        # y_true_batch are the true labels for those images.\n",
    "        x_batch, y_true_batch, _ = data.random_batch(batch_size=batch_size)\n",
    "        y_true_cls_batch = np.argmax(y_true_batch, axis=1)\n",
    "        \n",
    "        # Put the batch into a dict with the proper names\n",
    "        # for placeholder variables in the TensorFlow graph.\n",
    "        # Note that the placeholder for y_true_cls is not set\n",
    "        # because it is not used during training.\n",
    "        print(y_true_batch.shape)\n",
    "        feed_dict_train = {x: x_batch,\n",
    "                           y_true: y_true_batch,\n",
    "                           y_true_cls: y_true_cls_batch}\n",
    "\n",
    "        # Run the optimizer using this batch of training data.\n",
    "        # TensorFlow assigns the variables in feed_dict_train\n",
    "        # to the placeholder variables and then runs the optimizer.\n",
    "        session.run(optimizer, feed_dict=feed_dict_train)"
   ]
  },
  {
   "cell_type": "markdown",
   "metadata": {},
   "source": [
    "### Helper-functions to show performance"
   ]
  },
  {
   "cell_type": "markdown",
   "metadata": {},
   "source": [
    "Dict with the test-set data to be used as input to the TensorFlow graph. Note that we must use the correct names for the placeholder variables in the TensorFlow graph."
   ]
  },
  {
   "cell_type": "code",
   "execution_count": 397,
   "metadata": {},
   "outputs": [],
   "source": [
    "feed_dict_test = {x: data.x_test,\n",
    "                  y_true: data.y_test,\n",
    "                  y_true_cls: data.y_test_cls}"
   ]
  },
  {
   "cell_type": "markdown",
   "metadata": {},
   "source": [
    "Function for printing the classification accuracy on the test-set."
   ]
  },
  {
   "cell_type": "code",
   "execution_count": 398,
   "metadata": {},
   "outputs": [],
   "source": [
    "def print_accuracy():\n",
    "    # Use TensorFlow to compute the accuracy.\n",
    "    acc = session.run(accuracy, feed_dict=feed_dict_test)\n",
    "    \n",
    "    # Print the accuracy.\n",
    "    print(\"Accuracy on test-set: {0:.1%}\".format(acc))"
   ]
  },
  {
   "cell_type": "markdown",
   "metadata": {},
   "source": [
    "Function for printing and plotting the confusion matrix using scikit-learn."
   ]
  },
  {
   "cell_type": "code",
   "execution_count": 399,
   "metadata": {},
   "outputs": [],
   "source": [
    "def print_confusion_matrix():\n",
    "    # Get the true classifications for the test-set.\n",
    "    cls_true = data.y_test_cls\n",
    "    \n",
    "    # Get the predicted classifications for the test-set.\n",
    "    cls_pred = session.run(y_pred_cls, feed_dict=feed_dict_test)\n",
    "\n",
    "    # Get the confusion matrix using sklearn.\n",
    "    cm = confusion_matrix(y_true=cls_true,\n",
    "                          y_pred=cls_pred)\n",
    "\n",
    "    # Print the confusion matrix as text.\n",
    "    print(cm)\n",
    "\n",
    "    # Plot the confusion matrix as an image.\n",
    "    plt.imshow(cm, interpolation='nearest', cmap=plt.cm.Blues)\n",
    "\n",
    "    # Make various adjustments to the plot.\n",
    "    plt.tight_layout()\n",
    "    plt.colorbar()\n",
    "    tick_marks = np.arange(num_classes)\n",
    "    plt.xticks(tick_marks, range(num_classes))\n",
    "    plt.yticks(tick_marks, range(num_classes))\n",
    "    plt.xlabel('Predicted')\n",
    "    plt.ylabel('True')\n",
    "    \n",
    "    # Ensure the plot is shown correctly with multiple plots\n",
    "    # in a single Notebook cell.\n",
    "    plt.show()"
   ]
  },
  {
   "cell_type": "markdown",
   "metadata": {},
   "source": [
    "Function for plotting examples of images from the test-set that have been mis-classified."
   ]
  },
  {
   "cell_type": "code",
   "execution_count": 400,
   "metadata": {},
   "outputs": [],
   "source": [
    "def plot_example_errors():\n",
    "    # Use TensorFlow to get a list of boolean values\n",
    "    # whether each test-image has been correctly classified,\n",
    "    # and a list for the predicted class of each image.\n",
    "    correct, cls_pred = session.run([correct_prediction, y_pred_cls],\n",
    "                                    feed_dict=feed_dict_test)\n",
    "\n",
    "    # Negate the boolean array.\n",
    "    incorrect = (correct == False)\n",
    "    \n",
    "    # Get the images from the test-set that have been\n",
    "    # incorrectly classified.\n",
    "    images = data.x_test[incorrect]\n",
    "    \n",
    "    # Get the predicted classes for those images.\n",
    "    cls_pred = cls_pred[incorrect]\n",
    "\n",
    "    # Get the true classes for those images.\n",
    "    cls_true = data.y_test_cls[incorrect]\n",
    "    \n",
    "    get_logits = False\n",
    "    if get_logits:\n",
    "        # Get the logits and prediction values (after softmax) for misclassified images\n",
    "        logits_test, ypred_test = session.run([logits, y_pred], \n",
    "                                  feed_dict=feed_dict_test)\n",
    "\n",
    "        logits_array = np.array(logits_test).squeeze()\n",
    "        print(logits_array.shape)\n",
    "        print(incorrect.shape)\n",
    "        logits_incorrect = logits_array[incorrect, :]\n",
    "        ypred_test = np.array(ypred_test).squeeze() \n",
    "        ypred_test_incorrect = ypred_test[incorrect, :]\n",
    "        print(ypred_test_incorrect.shape)\n",
    "\n",
    "        for i in range(logits_incorrect.shape[0]):        \n",
    "            print(logits_incorrect[i, :])\n",
    "            print(ypred_test_incorrect[i, :])\n",
    "            print(cls_pred[i])\n",
    "        \n",
    "    # Plot the first 9 images.\n",
    "    plot_images(images=images[0:9],\n",
    "                cls_true=cls_true[0:9],\n",
    "                cls_pred=cls_pred[0:9])\n",
    "    "
   ]
  },
  {
   "cell_type": "markdown",
   "metadata": {},
   "source": [
    "### Helper-function to plot the model weights"
   ]
  },
  {
   "cell_type": "markdown",
   "metadata": {},
   "source": [
    "Function for plotting the `weights` of the model. 10 images are plotted, one for each digit that the model is trained to recognize."
   ]
  },
  {
   "cell_type": "code",
   "execution_count": 401,
   "metadata": {},
   "outputs": [],
   "source": [
    "def plot_weights():\n",
    "    # Get the values for the weights from the TensorFlow variable.\n",
    "    w = session.run(weights)\n",
    "    \n",
    "    # Get the lowest and highest values for the weights.\n",
    "    # This is used to correct the colour intensity across\n",
    "    # the images so they can be compared with each other.\n",
    "    w_min = np.min(w)\n",
    "    w_max = np.max(w)\n",
    "\n",
    "    # Create figure with 3x4 sub-plots,\n",
    "    # where the last 2 sub-plots are unused.\n",
    "    fig, axes = plt.subplots(3, 4)\n",
    "    fig.subplots_adjust(hspace=0.3, wspace=0.3)\n",
    "\n",
    "    for i, ax in enumerate(axes.flat):\n",
    "        # Only use the weights for the first 10 sub-plots.\n",
    "        if i<10:\n",
    "            # Get the weights for the i'th digit and reshape it.\n",
    "            # Note that w.shape == (img_size_flat, 10)\n",
    "            image = w[:, i].reshape(img_shape)\n",
    "\n",
    "            # Set the label for the sub-plot.\n",
    "            ax.set_xlabel(\"Weights: {0}\".format(i))\n",
    "\n",
    "            # Plot the image.\n",
    "            ax.imshow(image, vmin=w_min, vmax=w_max, cmap='seismic')\n",
    "\n",
    "        # Remove ticks from each sub-plot.\n",
    "        ax.set_xticks([])\n",
    "        ax.set_yticks([])\n",
    "        \n",
    "    # Ensure the plot is shown correctly with multiple plots\n",
    "    # in a single Notebook cell.\n",
    "    plt.show()"
   ]
  },
  {
   "cell_type": "markdown",
   "metadata": {},
   "source": [
    "## Performance before any optimization\n",
    "\n",
    "The accuracy on the test-set is 9.8%. This is because the model has only been initialized and not optimized at all, so it always predicts that the image shows a zero digit, as demonstrated in the plot below, and it turns out that 9.8% of the images in the test-set happens to be zero digits."
   ]
  },
  {
   "cell_type": "code",
   "execution_count": 402,
   "metadata": {},
   "outputs": [
    {
     "name": "stdout",
     "output_type": "stream",
     "text": [
      "Accuracy on test-set: 9.8%\n"
     ]
    }
   ],
   "source": [
    "print_accuracy()"
   ]
  },
  {
   "cell_type": "code",
   "execution_count": 403,
   "metadata": {},
   "outputs": [
    {
     "data": {
      "image/png": "[encoded data removed]",
      "text/plain": [
       "<Figure size 432x288 with 9 Axes>"
      ]
     },
     "metadata": {},
     "output_type": "display_data"
    }
   ],
   "source": [
    "plot_example_errors()"
   ]
  },
  {
   "cell_type": "markdown",
   "metadata": {},
   "source": [
    "## Performance after 1 optimization iteration\n",
    "\n",
    "Already after a single optimization iteration, the model has increased its accuracy on the test-set significantly."
   ]
  },
  {
   "cell_type": "code",
   "execution_count": 404,
   "metadata": {},
   "outputs": [
    {
     "name": "stdout",
     "output_type": "stream",
     "text": [
      "(100, 10)\n"
     ]
    }
   ],
   "source": [
    "optimize(num_iterations=1)"
   ]
  },
  {
   "cell_type": "code",
   "execution_count": 405,
   "metadata": {},
   "outputs": [
    {
     "name": "stdout",
     "output_type": "stream",
     "text": [
      "Accuracy on test-set: 38.7%\n"
     ]
    }
   ],
   "source": [
    "print_accuracy()"
   ]
  },
  {
   "cell_type": "code",
   "execution_count": 406,
   "metadata": {},
   "outputs": [
    {
     "data": {
      "image/png": "[encoded data removed]",
      "text/plain": [
       "<Figure size 432x288 with 9 Axes>"
      ]
     },
     "metadata": {},
     "output_type": "display_data"
    }
   ],
   "source": [
    "plot_example_errors()"
   ]
  },
  {
   "cell_type": "markdown",
   "metadata": {},
   "source": [
    "The weights can also be plotted as shown below. Positive weights are red and negative weights are blue. These weights can be intuitively understood as image-filters.\n",
    "\n",
    "For example, the weights used to determine if an image shows a zero-digit have a positive reaction (red) to an image of a circle, and  have a negative reaction (blue) to images with content in the centre of the circle.\n",
    "\n",
    "Similarly, the weights used to determine if an image shows a one-digit react positively (red) to a vertical line in the centre of the image, and react negatively (blue) to images with content surrounding that line.\n",
    "\n",
    "Note that the weights mostly look like the digits they're supposed to recognize. This is because only one optimization iteration has been performed so the weights are only trained on 100 images. After training on several thousand images, the weights become more difficult to interpret because they have to recognize many variations of how digits can be written."
   ]
  },
  {
   "cell_type": "code",
   "execution_count": 407,
   "metadata": {},
   "outputs": [
    {
     "data": {
      "image/png": "[encoded data removed]",
      "text/plain": [
       "<Figure size 432x288 with 12 Axes>"
      ]
     },
     "metadata": {},
     "output_type": "display_data"
    }
   ],
   "source": [
    "plot_weights()"
   ]
  },
  {
   "cell_type": "markdown",
   "metadata": {},
   "source": [
    "## Performance after 10 optimization iterations"
   ]
  },
  {
   "cell_type": "code",
   "execution_count": 408,
   "metadata": {},
   "outputs": [
    {
     "name": "stdout",
     "output_type": "stream",
     "text": [
      "(100, 10)\n",
      "(100, 10)\n",
      "(100, 10)\n",
      "(100, 10)\n",
      "(100, 10)\n",
      "(100, 10)\n",
      "(100, 10)\n",
      "(100, 10)\n",
      "(100, 10)\n"
     ]
    }
   ],
   "source": [
    "# We have already performed 1 iteration.\n",
    "optimize(num_iterations=9)"
   ]
  },
  {
   "cell_type": "code",
   "execution_count": 409,
   "metadata": {},
   "outputs": [
    {
     "name": "stdout",
     "output_type": "stream",
     "text": [
      "Accuracy on test-set: 56.3%\n"
     ]
    }
   ],
   "source": [
    "print_accuracy()"
   ]
  },
  {
   "cell_type": "code",
   "execution_count": 410,
   "metadata": {},
   "outputs": [
    {
     "data": {
      "image/png": "[encoded data removed]",
      "text/plain": [
       "<Figure size 432x288 with 9 Axes>"
      ]
     },
     "metadata": {},
     "output_type": "display_data"
    }
   ],
   "source": [
    "plot_example_errors()"
   ]
  },
  {
   "cell_type": "code",
   "execution_count": 411,
   "metadata": {},
   "outputs": [
    {
     "data": {
      "image/png": "[encoded data removed]",
      "text/plain": [
       "<Figure size 432x288 with 12 Axes>"
      ]
     },
     "metadata": {},
     "output_type": "display_data"
    }
   ],
   "source": [
    "plot_weights()"
   ]
  },
  {
   "cell_type": "markdown",
   "metadata": {},
   "source": [
    "## Performance after 1000 optimization iterations\n",
    "\n",
    "After 1000 optimization iterations, the model only mis-classifies about one in ten images. As demonstrated below, some of the mis-classifications are justified because the images are very hard to determine with certainty even for humans, while others are quite obvious and should have been classified correctly by a good model. But this simple model cannot reach much better performance and more complex models are therefore needed."
   ]
  },
  {
   "cell_type": "code",
   "execution_count": 412,
   "metadata": {},
   "outputs": [
    {
     "name": "stdout",
     "output_type": "stream",
     "text": [
      "(100, 10)\n",
      "(100, 10)\n",
      "(100, 10)\n",
      "(100, 10)\n",
      "(100, 10)\n",
      "(100, 10)\n",
      "(100, 10)\n",
      "(100, 10)\n",
      "(100, 10)\n",
      "(100, 10)\n",
      "(100, 10)\n",
      "(100, 10)\n",
      "(100, 10)\n",
      "(100, 10)\n",
      "(100, 10)\n",
      "(100, 10)\n",
      "(100, 10)\n",
      "(100, 10)\n",
      "(100, 10)\n",
      "(100, 10)\n",
      "(100, 10)\n",
      "(100, 10)\n",
      "(100, 10)\n",
      "(100, 10)\n",
      "(100, 10)\n",
      "(100, 10)\n",
      "(100, 10)\n",
      "(100, 10)\n",
      "(100, 10)\n",
      "(100, 10)\n",
      "(100, 10)\n",
      "(100, 10)\n",
      "(100, 10)\n",
      "(100, 10)\n",
      "(100, 10)\n",
      "(100, 10)\n",
      "(100, 10)\n",
      "(100, 10)\n",
      "(100, 10)\n",
      "(100, 10)\n",
      "(100, 10)\n",
      "(100, 10)\n",
      "(100, 10)\n",
      "(100, 10)\n",
      "(100, 10)\n",
      "(100, 10)\n",
      "(100, 10)\n",
      "(100, 10)\n",
      "(100, 10)\n",
      "(100, 10)\n",
      "(100, 10)\n",
      "(100, 10)\n",
      "(100, 10)\n",
      "(100, 10)\n",
      "(100, 10)\n",
      "(100, 10)\n",
      "(100, 10)\n",
      "(100, 10)\n",
      "(100, 10)\n",
      "(100, 10)\n",
      "(100, 10)\n",
      "(100, 10)\n",
      "(100, 10)\n",
      "(100, 10)\n",
      "(100, 10)\n",
      "(100, 10)\n",
      "(100, 10)\n",
      "(100, 10)\n",
      "(100, 10)\n",
      "(100, 10)\n",
      "(100, 10)\n",
      "(100, 10)\n",
      "(100, 10)\n",
      "(100, 10)\n",
      "(100, 10)\n",
      "(100, 10)\n",
      "(100, 10)\n",
      "(100, 10)\n",
      "(100, 10)\n",
      "(100, 10)\n",
      "(100, 10)\n",
      "(100, 10)\n",
      "(100, 10)\n",
      "(100, 10)\n",
      "(100, 10)\n",
      "(100, 10)\n",
      "(100, 10)\n",
      "(100, 10)\n",
      "(100, 10)\n",
      "(100, 10)\n",
      "(100, 10)\n",
      "(100, 10)\n",
      "(100, 10)\n",
      "(100, 10)\n",
      "(100, 10)\n",
      "(100, 10)\n",
      "(100, 10)\n",
      "(100, 10)\n",
      "(100, 10)\n",
      "(100, 10)\n",
      "(100, 10)\n",
      "(100, 10)\n",
      "(100, 10)\n",
      "(100, 10)\n",
      "(100, 10)\n",
      "(100, 10)\n",
      "(100, 10)\n",
      "(100, 10)\n",
      "(100, 10)\n",
      "(100, 10)\n",
      "(100, 10)\n",
      "(100, 10)\n",
      "(100, 10)\n",
      "(100, 10)\n",
      "(100, 10)\n",
      "(100, 10)\n",
      "(100, 10)\n",
      "(100, 10)\n",
      "(100, 10)\n",
      "(100, 10)\n",
      "(100, 10)\n",
      "(100, 10)\n",
      "(100, 10)\n",
      "(100, 10)\n",
      "(100, 10)\n",
      "(100, 10)\n",
      "(100, 10)\n",
      "(100, 10)\n",
      "(100, 10)\n",
      "(100, 10)\n",
      "(100, 10)\n",
      "(100, 10)\n",
      "(100, 10)\n",
      "(100, 10)\n",
      "(100, 10)\n",
      "(100, 10)\n",
      "(100, 10)\n",
      "(100, 10)\n",
      "(100, 10)\n",
      "(100, 10)\n",
      "(100, 10)\n",
      "(100, 10)\n",
      "(100, 10)\n",
      "(100, 10)\n",
      "(100, 10)\n",
      "(100, 10)\n",
      "(100, 10)\n",
      "(100, 10)\n",
      "(100, 10)\n",
      "(100, 10)\n",
      "(100, 10)\n",
      "(100, 10)\n",
      "(100, 10)\n",
      "(100, 10)\n",
      "(100, 10)\n",
      "(100, 10)\n",
      "(100, 10)\n",
      "(100, 10)\n",
      "(100, 10)\n",
      "(100, 10)\n",
      "(100, 10)\n",
      "(100, 10)\n",
      "(100, 10)\n",
      "(100, 10)\n",
      "(100, 10)\n",
      "(100, 10)\n",
      "(100, 10)\n",
      "(100, 10)\n",
      "(100, 10)\n",
      "(100, 10)\n",
      "(100, 10)\n",
      "(100, 10)\n",
      "(100, 10)\n",
      "(100, 10)\n",
      "(100, 10)\n",
      "(100, 10)\n",
      "(100, 10)\n",
      "(100, 10)\n",
      "(100, 10)\n",
      "(100, 10)\n",
      "(100, 10)\n",
      "(100, 10)\n",
      "(100, 10)\n",
      "(100, 10)\n",
      "(100, 10)\n",
      "(100, 10)\n",
      "(100, 10)\n",
      "(100, 10)\n",
      "(100, 10)\n",
      "(100, 10)\n",
      "(100, 10)\n",
      "(100, 10)\n",
      "(100, 10)\n",
      "(100, 10)\n",
      "(100, 10)\n",
      "(100, 10)\n",
      "(100, 10)\n",
      "(100, 10)\n",
      "(100, 10)\n",
      "(100, 10)\n",
      "(100, 10)\n",
      "(100, 10)\n",
      "(100, 10)\n",
      "(100, 10)\n",
      "(100, 10)\n",
      "(100, 10)\n",
      "(100, 10)\n",
      "(100, 10)\n",
      "(100, 10)\n",
      "(100, 10)\n",
      "(100, 10)\n",
      "(100, 10)\n",
      "(100, 10)\n",
      "(100, 10)\n",
      "(100, 10)\n",
      "(100, 10)\n",
      "(100, 10)\n",
      "(100, 10)\n",
      "(100, 10)\n",
      "(100, 10)\n",
      "(100, 10)\n",
      "(100, 10)\n",
      "(100, 10)\n",
      "(100, 10)\n",
      "(100, 10)\n",
      "(100, 10)\n",
      "(100, 10)\n",
      "(100, 10)\n",
      "(100, 10)\n",
      "(100, 10)\n",
      "(100, 10)\n",
      "(100, 10)\n",
      "(100, 10)\n",
      "(100, 10)\n",
      "(100, 10)\n",
      "(100, 10)\n",
      "(100, 10)\n",
      "(100, 10)\n",
      "(100, 10)\n",
      "(100, 10)\n",
      "(100, 10)\n",
      "(100, 10)\n",
      "(100, 10)\n",
      "(100, 10)\n",
      "(100, 10)\n",
      "(100, 10)\n",
      "(100, 10)\n",
      "(100, 10)\n",
      "(100, 10)\n",
      "(100, 10)\n",
      "(100, 10)\n",
      "(100, 10)\n",
      "(100, 10)\n",
      "(100, 10)\n",
      "(100, 10)\n",
      "(100, 10)\n",
      "(100, 10)\n",
      "(100, 10)\n",
      "(100, 10)\n",
      "(100, 10)\n",
      "(100, 10)\n",
      "(100, 10)\n",
      "(100, 10)\n",
      "(100, 10)\n",
      "(100, 10)\n",
      "(100, 10)\n",
      "(100, 10)\n",
      "(100, 10)\n",
      "(100, 10)\n",
      "(100, 10)\n",
      "(100, 10)\n",
      "(100, 10)\n",
      "(100, 10)\n",
      "(100, 10)\n",
      "(100, 10)\n",
      "(100, 10)\n",
      "(100, 10)\n",
      "(100, 10)\n",
      "(100, 10)\n",
      "(100, 10)\n",
      "(100, 10)\n",
      "(100, 10)\n",
      "(100, 10)\n",
      "(100, 10)\n",
      "(100, 10)\n",
      "(100, 10)\n",
      "(100, 10)\n",
      "(100, 10)\n",
      "(100, 10)\n",
      "(100, 10)\n",
      "(100, 10)\n",
      "(100, 10)\n",
      "(100, 10)\n",
      "(100, 10)\n",
      "(100, 10)\n",
      "(100, 10)\n",
      "(100, 10)\n",
      "(100, 10)\n",
      "(100, 10)\n",
      "(100, 10)\n",
      "(100, 10)\n",
      "(100, 10)\n",
      "(100, 10)\n",
      "(100, 10)\n",
      "(100, 10)\n",
      "(100, 10)\n",
      "(100, 10)\n",
      "(100, 10)\n",
      "(100, 10)\n",
      "(100, 10)\n",
      "(100, 10)\n",
      "(100, 10)\n",
      "(100, 10)\n",
      "(100, 10)\n",
      "(100, 10)\n",
      "(100, 10)\n",
      "(100, 10)\n",
      "(100, 10)\n",
      "(100, 10)\n",
      "(100, 10)\n",
      "(100, 10)\n",
      "(100, 10)\n",
      "(100, 10)\n",
      "(100, 10)\n",
      "(100, 10)\n",
      "(100, 10)\n",
      "(100, 10)\n",
      "(100, 10)\n",
      "(100, 10)\n",
      "(100, 10)\n",
      "(100, 10)\n",
      "(100, 10)\n",
      "(100, 10)\n",
      "(100, 10)\n",
      "(100, 10)\n",
      "(100, 10)\n",
      "(100, 10)\n",
      "(100, 10)\n",
      "(100, 10)\n",
      "(100, 10)\n",
      "(100, 10)\n",
      "(100, 10)\n",
      "(100, 10)\n",
      "(100, 10)\n",
      "(100, 10)\n",
      "(100, 10)\n",
      "(100, 10)\n",
      "(100, 10)\n",
      "(100, 10)\n",
      "(100, 10)\n",
      "(100, 10)\n",
      "(100, 10)\n",
      "(100, 10)\n",
      "(100, 10)\n",
      "(100, 10)\n",
      "(100, 10)\n",
      "(100, 10)\n",
      "(100, 10)\n",
      "(100, 10)\n",
      "(100, 10)\n",
      "(100, 10)\n",
      "(100, 10)\n",
      "(100, 10)\n",
      "(100, 10)\n",
      "(100, 10)\n",
      "(100, 10)\n",
      "(100, 10)\n",
      "(100, 10)\n",
      "(100, 10)\n",
      "(100, 10)\n",
      "(100, 10)\n",
      "(100, 10)\n",
      "(100, 10)\n",
      "(100, 10)\n",
      "(100, 10)\n",
      "(100, 10)\n",
      "(100, 10)\n",
      "(100, 10)\n",
      "(100, 10)\n",
      "(100, 10)\n",
      "(100, 10)\n",
      "(100, 10)\n",
      "(100, 10)\n",
      "(100, 10)\n",
      "(100, 10)\n",
      "(100, 10)\n",
      "(100, 10)\n",
      "(100, 10)\n",
      "(100, 10)\n",
      "(100, 10)\n",
      "(100, 10)\n",
      "(100, 10)\n",
      "(100, 10)\n",
      "(100, 10)\n",
      "(100, 10)\n",
      "(100, 10)\n",
      "(100, 10)\n",
      "(100, 10)\n",
      "(100, 10)\n",
      "(100, 10)\n",
      "(100, 10)\n",
      "(100, 10)\n",
      "(100, 10)\n",
      "(100, 10)\n",
      "(100, 10)\n",
      "(100, 10)\n",
      "(100, 10)\n",
      "(100, 10)\n",
      "(100, 10)\n",
      "(100, 10)\n",
      "(100, 10)\n",
      "(100, 10)\n",
      "(100, 10)\n",
      "(100, 10)\n",
      "(100, 10)\n",
      "(100, 10)\n",
      "(100, 10)\n",
      "(100, 10)\n",
      "(100, 10)\n",
      "(100, 10)\n",
      "(100, 10)\n",
      "(100, 10)\n",
      "(100, 10)\n",
      "(100, 10)\n",
      "(100, 10)\n",
      "(100, 10)\n",
      "(100, 10)\n",
      "(100, 10)\n",
      "(100, 10)\n",
      "(100, 10)\n",
      "(100, 10)\n",
      "(100, 10)\n",
      "(100, 10)\n",
      "(100, 10)\n",
      "(100, 10)\n",
      "(100, 10)\n",
      "(100, 10)\n",
      "(100, 10)\n",
      "(100, 10)\n",
      "(100, 10)\n",
      "(100, 10)\n",
      "(100, 10)\n",
      "(100, 10)\n",
      "(100, 10)\n",
      "(100, 10)\n",
      "(100, 10)\n",
      "(100, 10)\n",
      "(100, 10)\n",
      "(100, 10)\n",
      "(100, 10)\n",
      "(100, 10)\n",
      "(100, 10)\n",
      "(100, 10)\n",
      "(100, 10)\n",
      "(100, 10)\n",
      "(100, 10)\n",
      "(100, 10)\n",
      "(100, 10)\n",
      "(100, 10)\n",
      "(100, 10)\n",
      "(100, 10)\n",
      "(100, 10)\n",
      "(100, 10)\n",
      "(100, 10)\n",
      "(100, 10)\n",
      "(100, 10)\n",
      "(100, 10)\n",
      "(100, 10)\n",
      "(100, 10)\n",
      "(100, 10)\n",
      "(100, 10)\n",
      "(100, 10)\n",
      "(100, 10)\n",
      "(100, 10)\n",
      "(100, 10)\n",
      "(100, 10)\n",
      "(100, 10)\n",
      "(100, 10)\n",
      "(100, 10)\n",
      "(100, 10)\n",
      "(100, 10)\n",
      "(100, 10)\n",
      "(100, 10)\n",
      "(100, 10)\n",
      "(100, 10)\n",
      "(100, 10)\n",
      "(100, 10)\n",
      "(100, 10)\n",
      "(100, 10)\n",
      "(100, 10)\n",
      "(100, 10)\n",
      "(100, 10)\n",
      "(100, 10)\n",
      "(100, 10)\n",
      "(100, 10)\n",
      "(100, 10)\n",
      "(100, 10)\n",
      "(100, 10)\n",
      "(100, 10)\n",
      "(100, 10)\n",
      "(100, 10)\n",
      "(100, 10)\n",
      "(100, 10)\n",
      "(100, 10)\n",
      "(100, 10)\n",
      "(100, 10)\n",
      "(100, 10)\n",
      "(100, 10)\n",
      "(100, 10)\n",
      "(100, 10)\n",
      "(100, 10)\n",
      "(100, 10)\n",
      "(100, 10)\n",
      "(100, 10)\n",
      "(100, 10)\n",
      "(100, 10)\n",
      "(100, 10)\n",
      "(100, 10)\n",
      "(100, 10)\n",
      "(100, 10)\n",
      "(100, 10)\n",
      "(100, 10)\n",
      "(100, 10)\n",
      "(100, 10)\n",
      "(100, 10)\n",
      "(100, 10)\n",
      "(100, 10)\n",
      "(100, 10)\n",
      "(100, 10)\n",
      "(100, 10)\n",
      "(100, 10)\n",
      "(100, 10)\n",
      "(100, 10)\n",
      "(100, 10)\n",
      "(100, 10)\n",
      "(100, 10)\n",
      "(100, 10)\n",
      "(100, 10)\n",
      "(100, 10)\n",
      "(100, 10)\n",
      "(100, 10)\n",
      "(100, 10)\n",
      "(100, 10)\n",
      "(100, 10)\n",
      "(100, 10)\n",
      "(100, 10)\n",
      "(100, 10)\n",
      "(100, 10)\n",
      "(100, 10)\n",
      "(100, 10)\n",
      "(100, 10)\n",
      "(100, 10)\n",
      "(100, 10)\n",
      "(100, 10)\n",
      "(100, 10)\n",
      "(100, 10)\n",
      "(100, 10)\n",
      "(100, 10)\n",
      "(100, 10)\n",
      "(100, 10)\n",
      "(100, 10)\n",
      "(100, 10)\n",
      "(100, 10)\n",
      "(100, 10)\n",
      "(100, 10)\n",
      "(100, 10)\n",
      "(100, 10)\n",
      "(100, 10)\n",
      "(100, 10)\n",
      "(100, 10)\n",
      "(100, 10)\n",
      "(100, 10)\n",
      "(100, 10)\n",
      "(100, 10)\n",
      "(100, 10)\n",
      "(100, 10)\n",
      "(100, 10)\n",
      "(100, 10)\n",
      "(100, 10)\n",
      "(100, 10)\n",
      "(100, 10)\n",
      "(100, 10)\n",
      "(100, 10)\n",
      "(100, 10)\n",
      "(100, 10)\n",
      "(100, 10)\n",
      "(100, 10)\n",
      "(100, 10)\n",
      "(100, 10)\n",
      "(100, 10)\n",
      "(100, 10)\n",
      "(100, 10)\n",
      "(100, 10)\n",
      "(100, 10)\n",
      "(100, 10)\n",
      "(100, 10)\n",
      "(100, 10)\n",
      "(100, 10)\n",
      "(100, 10)\n",
      "(100, 10)\n",
      "(100, 10)\n",
      "(100, 10)\n",
      "(100, 10)\n",
      "(100, 10)\n",
      "(100, 10)\n",
      "(100, 10)\n",
      "(100, 10)\n",
      "(100, 10)\n",
      "(100, 10)\n",
      "(100, 10)\n",
      "(100, 10)\n",
      "(100, 10)\n",
      "(100, 10)\n",
      "(100, 10)\n",
      "(100, 10)\n",
      "(100, 10)\n",
      "(100, 10)\n",
      "(100, 10)\n",
      "(100, 10)\n",
      "(100, 10)\n",
      "(100, 10)\n",
      "(100, 10)\n",
      "(100, 10)\n",
      "(100, 10)\n",
      "(100, 10)\n",
      "(100, 10)\n",
      "(100, 10)\n",
      "(100, 10)\n",
      "(100, 10)\n",
      "(100, 10)\n",
      "(100, 10)\n",
      "(100, 10)\n",
      "(100, 10)\n",
      "(100, 10)\n",
      "(100, 10)\n",
      "(100, 10)\n",
      "(100, 10)\n",
      "(100, 10)\n",
      "(100, 10)\n",
      "(100, 10)\n",
      "(100, 10)\n",
      "(100, 10)\n",
      "(100, 10)\n",
      "(100, 10)\n",
      "(100, 10)\n",
      "(100, 10)\n",
      "(100, 10)\n",
      "(100, 10)\n",
      "(100, 10)\n",
      "(100, 10)\n",
      "(100, 10)\n",
      "(100, 10)\n",
      "(100, 10)\n",
      "(100, 10)\n",
      "(100, 10)\n",
      "(100, 10)\n",
      "(100, 10)\n",
      "(100, 10)\n",
      "(100, 10)\n",
      "(100, 10)\n",
      "(100, 10)\n",
      "(100, 10)\n",
      "(100, 10)\n",
      "(100, 10)\n",
      "(100, 10)\n",
      "(100, 10)\n",
      "(100, 10)\n",
      "(100, 10)\n",
      "(100, 10)\n",
      "(100, 10)\n",
      "(100, 10)\n",
      "(100, 10)\n",
      "(100, 10)\n",
      "(100, 10)\n",
      "(100, 10)\n",
      "(100, 10)\n",
      "(100, 10)\n",
      "(100, 10)\n",
      "(100, 10)\n",
      "(100, 10)\n",
      "(100, 10)\n",
      "(100, 10)\n",
      "(100, 10)\n",
      "(100, 10)\n",
      "(100, 10)\n",
      "(100, 10)\n",
      "(100, 10)\n",
      "(100, 10)\n",
      "(100, 10)\n",
      "(100, 10)\n",
      "(100, 10)\n",
      "(100, 10)\n",
      "(100, 10)\n",
      "(100, 10)\n",
      "(100, 10)\n",
      "(100, 10)\n",
      "(100, 10)\n",
      "(100, 10)\n",
      "(100, 10)\n",
      "(100, 10)\n",
      "(100, 10)\n",
      "(100, 10)\n",
      "(100, 10)\n",
      "(100, 10)\n",
      "(100, 10)\n",
      "(100, 10)\n",
      "(100, 10)\n",
      "(100, 10)\n",
      "(100, 10)\n",
      "(100, 10)\n",
      "(100, 10)\n",
      "(100, 10)\n",
      "(100, 10)\n",
      "(100, 10)\n",
      "(100, 10)\n",
      "(100, 10)\n",
      "(100, 10)\n",
      "(100, 10)\n",
      "(100, 10)\n",
      "(100, 10)\n",
      "(100, 10)\n",
      "(100, 10)\n",
      "(100, 10)\n",
      "(100, 10)\n",
      "(100, 10)\n",
      "(100, 10)\n",
      "(100, 10)\n",
      "(100, 10)\n",
      "(100, 10)\n",
      "(100, 10)\n",
      "(100, 10)\n",
      "(100, 10)\n",
      "(100, 10)\n",
      "(100, 10)\n",
      "(100, 10)\n",
      "(100, 10)\n",
      "(100, 10)\n",
      "(100, 10)\n",
      "(100, 10)\n",
      "(100, 10)\n",
      "(100, 10)\n",
      "(100, 10)\n",
      "(100, 10)\n",
      "(100, 10)\n",
      "(100, 10)\n",
      "(100, 10)\n",
      "(100, 10)\n",
      "(100, 10)\n",
      "(100, 10)\n",
      "(100, 10)\n",
      "(100, 10)\n",
      "(100, 10)\n",
      "(100, 10)\n",
      "(100, 10)\n",
      "(100, 10)\n",
      "(100, 10)\n",
      "(100, 10)\n",
      "(100, 10)\n",
      "(100, 10)\n",
      "(100, 10)\n",
      "(100, 10)\n",
      "(100, 10)\n",
      "(100, 10)\n",
      "(100, 10)\n",
      "(100, 10)\n",
      "(100, 10)\n",
      "(100, 10)\n",
      "(100, 10)\n",
      "(100, 10)\n",
      "(100, 10)\n",
      "(100, 10)\n",
      "(100, 10)\n",
      "(100, 10)\n",
      "(100, 10)\n",
      "(100, 10)\n",
      "(100, 10)\n",
      "(100, 10)\n",
      "(100, 10)\n",
      "(100, 10)\n",
      "(100, 10)\n",
      "(100, 10)\n",
      "(100, 10)\n",
      "(100, 10)\n",
      "(100, 10)\n",
      "(100, 10)\n",
      "(100, 10)\n",
      "(100, 10)\n",
      "(100, 10)\n",
      "(100, 10)\n",
      "(100, 10)\n",
      "(100, 10)\n",
      "(100, 10)\n",
      "(100, 10)\n",
      "(100, 10)\n",
      "(100, 10)\n",
      "(100, 10)\n",
      "(100, 10)\n",
      "(100, 10)\n",
      "(100, 10)\n",
      "(100, 10)\n",
      "(100, 10)\n",
      "(100, 10)\n",
      "(100, 10)\n",
      "(100, 10)\n",
      "(100, 10)\n",
      "(100, 10)\n",
      "(100, 10)\n",
      "(100, 10)\n",
      "(100, 10)\n",
      "(100, 10)\n",
      "(100, 10)\n",
      "(100, 10)\n",
      "(100, 10)\n",
      "(100, 10)\n",
      "(100, 10)\n",
      "(100, 10)\n",
      "(100, 10)\n",
      "(100, 10)\n",
      "(100, 10)\n",
      "(100, 10)\n",
      "(100, 10)\n",
      "(100, 10)\n",
      "(100, 10)\n",
      "(100, 10)\n",
      "(100, 10)\n",
      "(100, 10)\n",
      "(100, 10)\n",
      "(100, 10)\n",
      "(100, 10)\n",
      "(100, 10)\n",
      "(100, 10)\n",
      "(100, 10)\n",
      "(100, 10)\n",
      "(100, 10)\n",
      "(100, 10)\n",
      "(100, 10)\n",
      "(100, 10)\n",
      "(100, 10)\n",
      "(100, 10)\n",
      "(100, 10)\n",
      "(100, 10)\n",
      "(100, 10)\n",
      "(100, 10)\n",
      "(100, 10)\n",
      "(100, 10)\n",
      "(100, 10)\n",
      "(100, 10)\n",
      "(100, 10)\n",
      "(100, 10)\n",
      "(100, 10)\n",
      "(100, 10)\n",
      "(100, 10)\n",
      "(100, 10)\n",
      "(100, 10)\n",
      "(100, 10)\n",
      "(100, 10)\n",
      "(100, 10)\n",
      "(100, 10)\n",
      "(100, 10)\n",
      "(100, 10)\n",
      "(100, 10)\n",
      "(100, 10)\n",
      "(100, 10)\n",
      "(100, 10)\n",
      "(100, 10)\n",
      "(100, 10)\n",
      "(100, 10)\n",
      "(100, 10)\n",
      "(100, 10)\n",
      "(100, 10)\n",
      "(100, 10)\n",
      "(100, 10)\n",
      "(100, 10)\n",
      "(100, 10)\n",
      "(100, 10)\n",
      "(100, 10)\n",
      "(100, 10)\n",
      "(100, 10)\n",
      "(100, 10)\n",
      "(100, 10)\n",
      "(100, 10)\n",
      "(100, 10)\n",
      "(100, 10)\n",
      "(100, 10)\n",
      "(100, 10)\n",
      "(100, 10)\n",
      "(100, 10)\n",
      "(100, 10)\n",
      "(100, 10)\n",
      "(100, 10)\n",
      "(100, 10)\n",
      "(100, 10)\n",
      "(100, 10)\n",
      "(100, 10)\n",
      "(100, 10)\n",
      "(100, 10)\n",
      "(100, 10)\n",
      "(100, 10)\n",
      "(100, 10)\n",
      "(100, 10)\n",
      "(100, 10)\n",
      "(100, 10)\n",
      "(100, 10)\n",
      "(100, 10)\n",
      "(100, 10)\n",
      "(100, 10)\n",
      "(100, 10)\n",
      "(100, 10)\n",
      "(100, 10)\n",
      "(100, 10)\n",
      "(100, 10)\n",
      "(100, 10)\n",
      "(100, 10)\n",
      "(100, 10)\n",
      "(100, 10)\n",
      "(100, 10)\n",
      "(100, 10)\n",
      "(100, 10)\n",
      "(100, 10)\n",
      "(100, 10)\n",
      "(100, 10)\n",
      "(100, 10)\n",
      "(100, 10)\n",
      "(100, 10)\n",
      "(100, 10)\n",
      "(100, 10)\n",
      "(100, 10)\n",
      "(100, 10)\n",
      "(100, 10)\n",
      "(100, 10)\n",
      "(100, 10)\n",
      "(100, 10)\n",
      "(100, 10)\n",
      "(100, 10)\n",
      "(100, 10)\n",
      "(100, 10)\n",
      "(100, 10)\n",
      "(100, 10)\n",
      "(100, 10)\n",
      "(100, 10)\n",
      "(100, 10)\n",
      "(100, 10)\n",
      "(100, 10)\n",
      "(100, 10)\n",
      "(100, 10)\n",
      "(100, 10)\n",
      "(100, 10)\n",
      "(100, 10)\n",
      "(100, 10)\n",
      "(100, 10)\n",
      "(100, 10)\n",
      "(100, 10)\n",
      "(100, 10)\n",
      "(100, 10)\n",
      "(100, 10)\n",
      "(100, 10)\n",
      "(100, 10)\n",
      "(100, 10)\n",
      "(100, 10)\n",
      "(100, 10)\n",
      "(100, 10)\n",
      "(100, 10)\n",
      "(100, 10)\n",
      "(100, 10)\n",
      "(100, 10)\n",
      "(100, 10)\n",
      "(100, 10)\n",
      "(100, 10)\n",
      "(100, 10)\n",
      "(100, 10)\n",
      "(100, 10)\n",
      "(100, 10)\n",
      "(100, 10)\n",
      "(100, 10)\n",
      "(100, 10)\n",
      "(100, 10)\n",
      "(100, 10)\n",
      "(100, 10)\n",
      "(100, 10)\n"
     ]
    },
    {
     "name": "stdout",
     "output_type": "stream",
     "text": [
      "(100, 10)\n",
      "(100, 10)\n",
      "(100, 10)\n",
      "(100, 10)\n",
      "(100, 10)\n",
      "(100, 10)\n",
      "(100, 10)\n",
      "(100, 10)\n",
      "(100, 10)\n",
      "(100, 10)\n",
      "(100, 10)\n"
     ]
    }
   ],
   "source": [
    "# We have already performed 10 iterations.\n",
    "optimize(num_iterations=990)"
   ]
  },
  {
   "cell_type": "code",
   "execution_count": 413,
   "metadata": {},
   "outputs": [
    {
     "name": "stdout",
     "output_type": "stream",
     "text": [
      "Accuracy on test-set: 86.0%\n"
     ]
    }
   ],
   "source": [
    "print_accuracy()"
   ]
  },
  {
   "cell_type": "code",
   "execution_count": 414,
   "metadata": {},
   "outputs": [
    {
     "data": {
      "image/png": "[encoded data removed]",
      "text/plain": [
       "<Figure size 432x288 with 9 Axes>"
      ]
     },
     "metadata": {},
     "output_type": "display_data"
    }
   ],
   "source": [
    "plot_example_errors()"
   ]
  },
  {
   "cell_type": "markdown",
   "metadata": {},
   "source": [
    "The model has now been trained for 1000 optimization iterations, with each iteration using 100 images from the training-set. Because of the great variety of the images, the weights have now become difficult to interpret and we may doubt whether the model truly understands how digits are composed from lines, or whether the model has just memorized many different variations of pixels."
   ]
  },
  {
   "cell_type": "code",
   "execution_count": 415,
   "metadata": {},
   "outputs": [
    {
     "data": {
      "image/png": "[encoded data removed]",
      "text/plain": [
       "<Figure size 432x288 with 12 Axes>"
      ]
     },
     "metadata": {},
     "output_type": "display_data"
    }
   ],
   "source": [
    "plot_weights()"
   ]
  },
  {
   "cell_type": "markdown",
   "metadata": {},
   "source": [
    "We can also print and plot the so-called confusion matrix which lets us see more details about the mis-classifications. For example, it shows that images actually depicting a 5 have sometimes been mis-classified as all other possible digits, but mostly as 6 or 8."
   ]
  },
  {
   "cell_type": "code",
   "execution_count": 416,
   "metadata": {},
   "outputs": [
    {
     "name": "stdout",
     "output_type": "stream",
     "text": [
      "[[ 906    0    1    5   17   39    5    2    3    2]\n",
      " [   0 1076   16    0    1    4    2    2   34    0]\n",
      " [   5    6  921   12   35    9    3    5   35    1]\n",
      " [   2    1   37  830   12   75    1    9   40    3]\n",
      " [   0    3    3    0  969    1    1    0    3    2]\n",
      " [   5    2    9    8   40  796    7    2   22    1]\n",
      " [   9    2   14    1   83   40  802    0    7    0]\n",
      " [   0   11   37    7   46    3    0  892    4   28]\n",
      " [   4    4    8   10   44   36    3    1  862    2]\n",
      " [   1    5    1    4  401   14    0   14   24  545]]\n"
     ]
    },
    {
     "data": {
      "image/png": "[encoded data removed]",
      "text/plain": [
       "<Figure size 432x288 with 2 Axes>"
      ]
     },
     "metadata": {},
     "output_type": "display_data"
    }
   ],
   "source": [
    "print_confusion_matrix()"
   ]
  },
  {
   "cell_type": "markdown",
   "metadata": {},
   "source": [
    "We are now done using TensorFlow, so we close the session to release its resources."
   ]
  },
  {
   "cell_type": "code",
   "execution_count": 47,
   "metadata": {
    "collapsed": true
   },
   "outputs": [],
   "source": [
    "# This has been commented out in case you want to modify and experiment\n",
    "# with the Notebook without having to restart it.\n",
    "# session.close()"
   ]
  },
  {
   "cell_type": "markdown",
   "metadata": {},
   "source": [
    "## Exercises\n",
    "\n",
    "These are a few suggestions for exercises that may help improve your skills with TensorFlow. It is important to get hands-on experience with TensorFlow in order to learn how to use it properly.\n",
    "\n",
    "You may want to backup this Notebook before making any changes.\n",
    "\n",
    "* Change the learning-rate for the optimizer.\n",
    "* Change the optimizer to e.g. `AdagradOptimizer` or `AdamOptimizer`.\n",
    "* Change the batch-size to e.g. 1 or 1000.\n",
    "* How do these changes affect the performance?\n",
    "* Do you think these changes will have the same effect (if any) on other classification problems and mathematical models?\n",
    "* Do you get the exact same results if you run the Notebook multiple times without changing any parameters? Why or why not?\n",
    "* Change the function `plot_example_errors()` so it also prints the `logits` and `y_pred` values for the mis-classified examples.\n",
    "* Use `sparse_softmax_cross_entropy_with_logits` instead of `softmax_cross_entropy_with_logits`. This may require several changes to multiple places in the source-code. Discuss the advantages and disadvantages of using the two methods.\n",
    "* Remake the program yourself without looking too much at this source-code.\n",
    "* Explain to a friend how the program works."
   ]
  },
  {
   "cell_type": "markdown",
   "metadata": {},
   "source": [
    "## License (MIT)\n",
    "\n",
    "Copyright (c) 2016 by [Magnus Erik Hvass Pedersen](http://www.hvass-labs.org/)\n",
    "\n",
    "Permission is hereby granted, free of charge, to any person obtaining a copy of this software and associated documentation files (the \"Software\"), to deal in the Software without restriction, including without limitation the rights to use, copy, modify, merge, publish, distribute, sublicense, and/or sell copies of the Software, and to permit persons to whom the Software is furnished to do so, subject to the following conditions:\n",
    "\n",
    "The above copyright notice and this permission notice shall be included in all copies or substantial portions of the Software.\n",
    "\n",
    "THE SOFTWARE IS PROVIDED \"AS IS\", WITHOUT WARRANTY OF ANY KIND, EXPRESS OR IMPLIED, INCLUDING BUT NOT LIMITED TO THE WARRANTIES OF MERCHANTABILITY, FITNESS FOR A PARTICULAR PURPOSE AND NONINFRINGEMENT. IN NO EVENT SHALL THE AUTHORS OR COPYRIGHT HOLDERS BE LIABLE FOR ANY CLAIM, DAMAGES OR OTHER LIABILITY, WHETHER IN AN ACTION OF CONTRACT, TORT OR OTHERWISE, ARISING FROM, OUT OF OR IN CONNECTION WITH THE SOFTWARE OR THE USE OR OTHER DEALINGS IN THE SOFTWARE."
   ]
  }
 ],
 "metadata": {
  "anaconda-cloud": {},
  "kernelspec": {
   "display_name": "Python 3",
   "language": "python",
   "name": "python3"
  },
  "language_info": {
   "codemirror_mode": {
    "name": "ipython",
    "version": 3
   },
   "file_extension": ".py",
   "mimetype": "text/x-python",
   "name": "python",
   "nbconvert_exporter": "python",
   "pygments_lexer": "ipython3",
   "version": "3.6.5"
  }
 },
 "nbformat": 4,
 "nbformat_minor": 1
}
